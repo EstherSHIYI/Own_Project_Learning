{
 "cells": [
  {
   "cell_type": "code",
   "execution_count": 1,
   "id": "75dd2427",
   "metadata": {},
   "outputs": [
    {
     "name": "stderr",
     "output_type": "stream",
     "text": [
      "2022-07-02 11:40:52.450 python[1202:15815] TSM AdjustCapsLockLEDForKeyTransitionHandling - _ISSetPhysicalKeyboardCapsLockLED Inhibit\n"
     ]
    }
   ],
   "source": [
    "import PySimpleGUI as sg\n",
    "import math\n",
    "\n",
    "layout = [\n",
    "    [sg.Input( key = '-INPUT-', expand_x=True, do_not_clear=False), #clear input\n",
    "     sg.Spin(['km to mile','kg to pound','kg to tw-catty','sec to min','cm to foot/inches'], key = '-UNITS-'), \n",
    "     sg.Button('Convert', key = '-CONVERT-')],\n",
    "    \n",
    "    [sg.Text('Output', key = '-RESULT-')]\n",
    "]\n",
    "\n",
    "window = sg.Window('Converter', layout)\n",
    "\n",
    "while True:\n",
    "    event, values = window.read()\n",
    "    \n",
    "    if event == sg.WIN_CLOSED:\n",
    "        break\n",
    "        \n",
    "    if event == '-CONVERT-':\n",
    "        input_value = values['-INPUT-']\n",
    "        if input_value.isnumeric(): #只能輸入整數\n",
    "            match values['-UNITS-']:\n",
    "                case 'km to mile':\n",
    "                    output = round(eval(input_value) * 0.6214,2)\n",
    "                    output_string = f'{input_value} km are {output} miles.'                    \n",
    "                \n",
    "                case 'kg to pound':\n",
    "                    output = round(eval(input_value) * 2.20462,2)\n",
    "                    output_string = f'{input_value} kg are {output} pounds.'\n",
    "                \n",
    "                case 'kg to tw-catty':\n",
    "                    output = round(eval(input_value) * 1.66667,2)\n",
    "                    output_string = f'{input_value} kg are {output} tw-catty.'\n",
    "                    \n",
    "                case 'sec to min':\n",
    "                    output = round(eval(input_value) / 60,2)\n",
    "                    output_string = f'{input_value} seconds are {output} minutes.'\n",
    "                    \n",
    "                case 'cm to foot/inches':\n",
    "                    output = eval(input_value) / 2.54\n",
    "                    output_f = output//12\n",
    "                    output_i = (math.floor(((output-(output_f*12))*10)))/10\n",
    "                    output_string = f'{input_value} cm are {output_f} foots and {output_i} inches.'   \n",
    "\n",
    "            window['-RESULT-'].update(output_string)\n",
    "        else:\n",
    "            window['-RESULT-'].update('Please enter a number')\n",
    "\n",
    "window.close()"
   ]
  },
  {
   "cell_type": "code",
   "execution_count": 7,
   "id": "71fd6646",
   "metadata": {},
   "outputs": [],
   "source": []
  },
  {
   "cell_type": "code",
   "execution_count": null,
   "id": "214c249a",
   "metadata": {},
   "outputs": [],
   "source": []
  }
 ],
 "metadata": {
  "kernelspec": {
   "display_name": "Python 3 (ipykernel)",
   "language": "python",
   "name": "python3"
  },
  "language_info": {
   "codemirror_mode": {
    "name": "ipython",
    "version": 3
   },
   "file_extension": ".py",
   "mimetype": "text/x-python",
   "name": "python",
   "nbconvert_exporter": "python",
   "pygments_lexer": "ipython3",
   "version": "3.10.5"
  }
 },
 "nbformat": 4,
 "nbformat_minor": 5
}
